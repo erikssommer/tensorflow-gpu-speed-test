{
 "cells": [
  {
   "cell_type": "markdown",
   "metadata": {},
   "source": [
    "### Import tensorflow and list available devices"
   ]
  },
  {
   "cell_type": "code",
   "execution_count": 1,
   "metadata": {},
   "outputs": [
    {
     "name": "stderr",
     "output_type": "stream",
     "text": [
      "2024-02-03 16:56:06.074416: I tensorflow/core/platform/cpu_feature_guard.cc:182] This TensorFlow binary is optimized to use available CPU instructions in performance-critical operations.\n",
      "To enable the following instructions: SSE4.1 SSE4.2 AVX AVX2 FMA, in other operations, rebuild TensorFlow with the appropriate compiler flags.\n"
     ]
    },
    {
     "name": "stdout",
     "output_type": "stream",
     "text": [
      "TensorFlow version: 2.12.0\n",
      "Physical devices:\n",
      "PhysicalDevice(name='/physical_device:CPU:0', device_type='CPU')\n",
      "PhysicalDevice(name='/physical_device:GPU:0', device_type='GPU')\n",
      "Platform: macOS-10.16-x86_64-i386-64bit\n",
      "Processor: i386\n"
     ]
    }
   ],
   "source": [
    "import tensorflow as tf\n",
    "import platform\n",
    "\n",
    "# Print TensorFlow version\n",
    "print(f\"TensorFlow version: {tf.__version__}\")\n",
    "\n",
    "# Print information about all physical devices\n",
    "physical_devices = tf.config.list_physical_devices()\n",
    "print(\"Physical devices:\")\n",
    "for device in physical_devices:\n",
    "    print(device)\n",
    "\n",
    "# Print information about the CPU\n",
    "print(f\"Platform: {platform.platform()}\")\n",
    "print(f\"Processor: {platform.processor()}\")\n",
    "\n"
   ]
  },
  {
   "cell_type": "markdown",
   "metadata": {},
   "source": [
    "### Download the data and split it into training and testing sets"
   ]
  },
  {
   "cell_type": "code",
   "execution_count": 2,
   "metadata": {},
   "outputs": [
    {
     "name": "stderr",
     "output_type": "stream",
     "text": [
      "/Users/eriksommer/miniconda3/envs/tensorflow-metal/lib/python3.8/site-packages/tqdm/auto.py:21: TqdmWarning: IProgress not found. Please update jupyter and ipywidgets. See https://ipywidgets.readthedocs.io/en/stable/user_install.html\n",
      "  from .autonotebook import tqdm as notebook_tqdm\n",
      "2024-02-03 16:56:15.981625: W tensorflow/tsl/platform/cloud/google_auth_provider.cc:184] All attempts to get a Google authentication bearer token failed, returning an empty token. Retrieving token from files failed with \"NOT_FOUND: Could not locate the credentials file.\". Retrieving token from GCE failed with \"FAILED_PRECONDITION: Error executing an HTTP request: libcurl code 6 meaning 'Couldn't resolve host name', error details: Could not resolve host: metadata.google.internal\".\n"
     ]
    },
    {
     "name": "stdout",
     "output_type": "stream",
     "text": [
      "\u001b[1mDownloading and preparing dataset Unknown size (download: Unknown size, generated: 171.63 MiB, total: 171.63 MiB) to ../datasets/beans/0.1.0...\u001b[0m\n"
     ]
    },
    {
     "name": "stderr",
     "output_type": "stream",
     "text": [
      "Dl Size...: 100%|██████████| 170/170 [00:20<00:00,  8.41 MiB/s]]\n",
      "Dl Completed...: 100%|██████████| 3/3 [00:20<00:00,  6.74s/ url]\n",
      "2024-02-03 16:56:41.236431: I tensorflow/core/common_runtime/pluggable_device/pluggable_device_factory.cc:306] Could not identify NUMA node of platform GPU ID 0, defaulting to 0. Your kernel may not have been built with NUMA support.\n",
      "2024-02-03 16:56:41.236491: I tensorflow/core/common_runtime/pluggable_device/pluggable_device_factory.cc:272] Created TensorFlow device (/job:localhost/replica:0/task:0/device:GPU:0 with 0 MB memory) -> physical PluggableDevice (device: 0, name: METAL, pci bus id: <undefined>)\n"
     ]
    },
    {
     "name": "stdout",
     "output_type": "stream",
     "text": [
      "\u001b[1mDataset beans downloaded and prepared to ../datasets/beans/0.1.0. Subsequent calls will reuse this data.\u001b[0m\n",
      "Batch shape: [None, 224, 224, 3]\n",
      "Num train images: 1056\n",
      "Num test images: 128\n"
     ]
    }
   ],
   "source": [
    "import tensorflow_datasets as tfds\n",
    "from pathlib import Path\n",
    "\n",
    "BATCH_SIZE = 32\n",
    "NUM_CLASSES = 3\n",
    "# dataset will be placed here\n",
    "data_dir = '../datasets/'\n",
    "Path('../datasets/').mkdir(parents=True, exist_ok=True)\n",
    "\n",
    "(ds_train, ds_test), ds_info = tfds.load(\n",
    "    \"beans\",\n",
    "    split=[\"train\", \"test\"],\n",
    "    batch_size=BATCH_SIZE,\n",
    "    with_info=True,\n",
    "    as_supervised=True,\n",
    "    shuffle_files=True,\n",
    "    data_dir=data_dir\n",
    ")\n",
    "ds_train = ds_train.map(lambda image, label: (tf.image.resize_with_crop_or_pad(image, 224, 224),\n",
    "                        tf.cast(label, tf.int32)))\n",
    "ds_test = ds_test.map(lambda image, label: (tf.image.resize_with_crop_or_pad(image, 224, 224),\n",
    "                        tf.cast(label, tf.int32)))\n",
    "\n",
    "print(f\"Batch shape: {list(ds_train.element_spec[0].shape)}\")\n",
    "print(f\"Num train images: {len(ds_train) * BATCH_SIZE}\")\n",
    "print(f\"Num test images: {len(ds_test) * BATCH_SIZE}\")"
   ]
  },
  {
   "cell_type": "markdown",
   "metadata": {},
   "source": [
    "### Create and compile the model"
   ]
  },
  {
   "cell_type": "code",
   "execution_count": 3,
   "metadata": {},
   "outputs": [],
   "source": [
    "model = tf.keras.applications.resnet50.ResNet50(\n",
    "    include_top=True,\n",
    "    weights=None,\n",
    "    input_tensor=None,\n",
    "    input_shape=None,\n",
    "    pooling=None,\n",
    "    classes=NUM_CLASSES\n",
    ")\n",
    "loss_fn = tf.keras.losses.SparseCategoricalCrossentropy()\n",
    "model.compile(optimizer=\"adam\", loss=loss_fn, metrics=[\"accuracy\"])"
   ]
  },
  {
   "cell_type": "markdown",
   "metadata": {},
   "source": [
    "### Running training on CPU for comparison"
   ]
  },
  {
   "cell_type": "code",
   "execution_count": 6,
   "metadata": {},
   "outputs": [
    {
     "name": "stdout",
     "output_type": "stream",
     "text": [
      "Epoch 1/2\n",
      "33/33 [==============================] - 251s 8s/step - loss: 0.8388 - accuracy: 0.6460\n",
      "Epoch 2/2\n",
      "33/33 [==============================] - 250s 8s/step - loss: 0.8234 - accuracy: 0.6867\n",
      "CPU training time: 501.7559278011322 seconds\n"
     ]
    }
   ],
   "source": [
    "time = tf.timestamp()\n",
    "with tf.device('CPU'):\n",
    "    model.fit(\n",
    "        ds_train,\n",
    "        epochs=2,\n",
    "        batch_size=BATCH_SIZE,\n",
    "    )\n",
    "print(f\"CPU training time: {tf.timestamp() - time} seconds\")"
   ]
  },
  {
   "cell_type": "markdown",
   "metadata": {},
   "source": [
    "### Running same training on GPU"
   ]
  },
  {
   "cell_type": "code",
   "execution_count": 5,
   "metadata": {},
   "outputs": [
    {
     "name": "stdout",
     "output_type": "stream",
     "text": [
      "Epoch 1/2\n",
      "33/33 [==============================] - 20s 591ms/step - loss: 0.7336 - accuracy: 0.6973\n",
      "Epoch 2/2\n",
      "33/33 [==============================] - 20s 594ms/step - loss: 0.6847 - accuracy: 0.7263\n",
      "GPU training time: 40.497875928878784 seconds\n"
     ]
    }
   ],
   "source": [
    "time = tf.timestamp()\n",
    "with tf.device('GPU'):\n",
    "    model.fit(\n",
    "        ds_train,\n",
    "        epochs=2,\n",
    "        batch_size=BATCH_SIZE,\n",
    "    )\n",
    "print(f\"GPU training time: {tf.timestamp() - time} seconds\")"
   ]
  }
 ],
 "metadata": {
  "kernelspec": {
   "display_name": "tensorflow-metal",
   "language": "python",
   "name": "python3"
  },
  "language_info": {
   "codemirror_mode": {
    "name": "ipython",
    "version": 3
   },
   "file_extension": ".py",
   "mimetype": "text/x-python",
   "name": "python",
   "nbconvert_exporter": "python",
   "pygments_lexer": "ipython3",
   "version": "3.8.2"
  }
 },
 "nbformat": 4,
 "nbformat_minor": 2
}
